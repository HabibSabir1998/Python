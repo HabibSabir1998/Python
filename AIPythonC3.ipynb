{
 "cells": [
  {
   "cell_type": "markdown",
   "metadata": {},
   "source": [
    "# Dictionary\n",
    "methods\n",
    "\n",
    "attributes\n",
    "\n",
    "extract values from dictionary"
   ]
  },
  {
   "cell_type": "markdown",
   "metadata": {},
   "source": [
    "# User define function"
   ]
  },
  {
   "cell_type": "raw",
   "metadata": {},
   "source": [
    "defualt function\n",
    "required arguments functions\n",
    "optional arguments functions\n",
    "pass arguments with values and key=values"
   ]
  },
  {
   "cell_type": "code",
   "execution_count": 2,
   "metadata": {},
   "outputs": [
    {
     "name": "stdout",
     "output_type": "stream",
     "text": [
      "Habib Sabir 03351234567 786\n"
     ]
    }
   ],
   "source": [
    "l1 = [\"Habib\", \"Sabir\" , \"03351234567\" ,\"786\"]\n",
    "#all element are store with index number\n",
    "# 0 = name \n",
    "# 1 = father_name \n",
    "# 2 = cell\n",
    "# 3 = id\n",
    "print(l1[0],l1[1],l1[2],l1[3])"
   ]
  },
  {
   "cell_type": "code",
   "execution_count": 3,
   "metadata": {},
   "outputs": [
    {
     "name": "stdout",
     "output_type": "stream",
     "text": [
      "Habib Sabir 03351234567 786\n"
     ]
    }
   ],
   "source": [
    "print(*l1) #same as above"
   ]
  },
  {
   "cell_type": "markdown",
   "metadata": {},
   "source": [
    "# Dictionary"
   ]
  },
  {
   "cell_type": "code",
   "execution_count": 8,
   "metadata": {},
   "outputs": [
    {
     "data": {
      "text/plain": [
       "{'name': 'Habib',\n",
       " 'Father_name': 'Muhammad Sabir',\n",
       " 'Cell Number': '03351234567',\n",
       " 'id': '786',\n",
       " 'age': '20'}"
      ]
     },
     "execution_count": 8,
     "metadata": {},
     "output_type": "execute_result"
    }
   ],
   "source": [
    "#item = key:value(pair) \n",
    "#it is like as an object\n",
    "obj1={\n",
    "    'name':'Habib',\n",
    "    'Father_name':'Muhammad Sabir',\n",
    "    'Cell Number':'03351234567',\n",
    "    'id':          '786',\n",
    "    'age':         '20'\n",
    "}\n",
    "obj1"
   ]
  },
  {
   "cell_type": "code",
   "execution_count": 10,
   "metadata": {},
   "outputs": [
    {
     "ename": "KeyError",
     "evalue": "0",
     "output_type": "error",
     "traceback": [
      "\u001b[1;31m---------------------------------------------------------------------------\u001b[0m",
      "\u001b[1;31mKeyError\u001b[0m                                  Traceback (most recent call last)",
      "\u001b[1;32m<ipython-input-10-dbf286155a2c>\u001b[0m in \u001b[0;36m<module>\u001b[1;34m\u001b[0m\n\u001b[1;32m----> 1\u001b[1;33m \u001b[0mobj1\u001b[0m\u001b[1;33m[\u001b[0m\u001b[1;36m0\u001b[0m\u001b[1;33m]\u001b[0m \u001b[1;31m#it not work for index its work for its key value\u001b[0m\u001b[1;33m\u001b[0m\u001b[1;33m\u001b[0m\u001b[0m\n\u001b[0m",
      "\u001b[1;31mKeyError\u001b[0m: 0"
     ]
    }
   ],
   "source": [
    "obj1[0] #it not work for index its work for its key value "
   ]
  },
  {
   "cell_type": "code",
   "execution_count": 11,
   "metadata": {},
   "outputs": [
    {
     "data": {
      "text/plain": [
       "'Habib'"
      ]
     },
     "execution_count": 11,
     "metadata": {},
     "output_type": "execute_result"
    }
   ],
   "source": [
    "obj1['name']"
   ]
  },
  {
   "cell_type": "code",
   "execution_count": 12,
   "metadata": {},
   "outputs": [
    {
     "data": {
      "text/plain": [
       "'Muhammad Sabir'"
      ]
     },
     "execution_count": 12,
     "metadata": {},
     "output_type": "execute_result"
    }
   ],
   "source": [
    "obj1['Father_name']"
   ]
  },
  {
   "cell_type": "code",
   "execution_count": 17,
   "metadata": {},
   "outputs": [
    {
     "data": {
      "text/plain": [
       "'pakistan zindabad'"
      ]
     },
     "execution_count": 17,
     "metadata": {},
     "output_type": "execute_result"
    }
   ],
   "source": [
    "# element = key:value (pair)\n",
    "# key = string, integer\n",
    "obj1 = {\n",
    "    'name' : 'Habib',\n",
    "    'fname' : 'Muhammad Sabir',\n",
    "    'cell' : '031555555557',\n",
    "    'id' : '786',\n",
    "    'age':20,\n",
    "    0 : 'pakistan zindabad',\n",
    "}\n",
    "\n",
    "obj1[0] #it get output for key which is define as 0"
   ]
  },
  {
   "cell_type": "code",
   "execution_count": 19,
   "metadata": {},
   "outputs": [
    {
     "ename": "TypeError",
     "evalue": "unhashable type: 'list'",
     "output_type": "error",
     "traceback": [
      "\u001b[1;31m---------------------------------------------------------------------------\u001b[0m",
      "\u001b[1;31mTypeError\u001b[0m                                 Traceback (most recent call last)",
      "\u001b[1;32m<ipython-input-19-7264ddfb7720>\u001b[0m in \u001b[0;36m<module>\u001b[1;34m\u001b[0m\n\u001b[0;32m      6\u001b[0m     \u001b[1;34m'age'\u001b[0m\u001b[1;33m:\u001b[0m\u001b[1;36m20\u001b[0m\u001b[1;33m,\u001b[0m\u001b[1;33m\u001b[0m\u001b[1;33m\u001b[0m\u001b[0m\n\u001b[0;32m      7\u001b[0m     \u001b[1;36m0\u001b[0m \u001b[1;33m:\u001b[0m \u001b[1;34m'pakistan zindabad'\u001b[0m\u001b[1;33m,\u001b[0m\u001b[1;33m\u001b[0m\u001b[1;33m\u001b[0m\u001b[0m\n\u001b[1;32m----> 8\u001b[1;33m     \u001b[1;33m[\u001b[0m\u001b[1;34m'abc'\u001b[0m\u001b[1;33m]\u001b[0m\u001b[1;33m:\u001b[0m\u001b[1;34m'Hello World'\u001b[0m \u001b[1;31m#not get index value\u001b[0m\u001b[1;33m\u001b[0m\u001b[1;33m\u001b[0m\u001b[0m\n\u001b[0m\u001b[0;32m      9\u001b[0m }\n\u001b[0;32m     10\u001b[0m \u001b[1;33m\u001b[0m\u001b[0m\n",
      "\u001b[1;31mTypeError\u001b[0m: unhashable type: 'list'"
     ]
    }
   ],
   "source": [
    "obj1 = {\n",
    "    'name' : 'Habib',\n",
    "    'fname' : 'Muhammad Sabir',\n",
    "    'cell' : '031555555557',\n",
    "    'id' : '786',\n",
    "    'age':20,\n",
    "    0 : 'pakistan zindabad',\n",
    "    ['abc']:'Hello World' #not get index value\n",
    "}\n",
    "\n",
    "obj1[0] "
   ]
  },
  {
   "cell_type": "code",
   "execution_count": 20,
   "metadata": {},
   "outputs": [
    {
     "data": {
      "text/plain": [
       "'pakistan zindabad'"
      ]
     },
     "execution_count": 20,
     "metadata": {},
     "output_type": "execute_result"
    }
   ],
   "source": [
    "obj1 = {\n",
    "    'name' : 'Habib',\n",
    "    'fname' : 'Muhammad Sabir',\n",
    "    'cell' : '031555555557',\n",
    "    'id' : '786',\n",
    "    'age':20,\n",
    "    0 : 'pakistan zindabad',\n",
    "    ('abc'):'Hello World'\n",
    "}\n",
    "\n",
    "obj1[0] "
   ]
  },
  {
   "cell_type": "code",
   "execution_count": null,
   "metadata": {},
   "outputs": [],
   "source": []
  }
 ],
 "metadata": {
  "kernelspec": {
   "display_name": "Python 3",
   "language": "python",
   "name": "python3"
  },
  "language_info": {
   "codemirror_mode": {
    "name": "ipython",
    "version": 3
   },
   "file_extension": ".py",
   "mimetype": "text/x-python",
   "name": "python",
   "nbconvert_exporter": "python",
   "pygments_lexer": "ipython3",
   "version": "3.7.3"
  }
 },
 "nbformat": 4,
 "nbformat_minor": 2
}
