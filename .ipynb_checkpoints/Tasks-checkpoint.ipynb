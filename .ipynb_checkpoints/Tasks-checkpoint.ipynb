{
 "cells": [
  {
   "cell_type": "markdown",
   "metadata": {},
   "source": [
    "two input and add them"
   ]
  },
  {
   "cell_type": "code",
   "execution_count": null,
   "metadata": {},
   "outputs": [],
   "source": [
    "a= int(input(\"First\"))\n",
    "b= int(input (\"Second\"))\n",
    "c=a+b\n",
    "print(c)\n",
    "x=a\n",
    "a=b\n",
    "b=x\n",
    "print(a)\n",
    "print(b)\n",
    "\n"
   ]
  },
  {
   "cell_type": "code",
   "execution_count": 7,
   "metadata": {},
   "outputs": [
    {
     "name": "stdout",
     "output_type": "stream",
     "text": [
      "First7\n",
      "odd\n"
     ]
    }
   ],
   "source": [
    "a=int(input(\"First\"))\n",
    "if a%2==0:\n",
    "    print(\"Even\")\n",
    "else:\n",
    "    print(\"odd\")\n",
    "    \n"
   ]
  },
  {
   "cell_type": "markdown",
   "metadata": {},
   "source": [
    "even hy c ki value even print wrna odd"
   ]
  },
  {
   "cell_type": "code",
   "execution_count": 28,
   "metadata": {},
   "outputs": [
    {
     "name": "stdout",
     "output_type": "stream",
     "text": [
      "[(1, 1), (4, 8), (9, 27), (16, 64), (25, 125), (36, 216), (49, 343), (64, 512), (81, 729), (100, 1000)]\n"
     ]
    }
   ],
   "source": [
    "#ek list hy 1 to 10 list ka phla element ka square or cube tuple ma dalna hy or uska phla element dusri list ma dalna hy\n",
    "l2=[]\n",
    "l1=list(range(1,11))\n",
    "for x in l1:\n",
    "    T=((x**2),(x**3))\n",
    "    l2.append(T)\n",
    "print(l2)\n",
    "    \n"
   ]
  },
  {
   "cell_type": "code",
   "execution_count": 41,
   "metadata": {},
   "outputs": [
    {
     "data": {
      "text/plain": [
       "[(1, 2, 3, 4), (1, 3, 5, 7), (5, 6, 7, 8)]"
      ]
     },
     "execution_count": 41,
     "metadata": {},
     "output_type": "execute_result"
    }
   ],
   "source": [
    "#sorted second last column\n",
    "l1=[\n",
    "    (1,2,3,4),\n",
    "    (5,6,7,8),\n",
    "    (1,3,5,7)\n",
    "]\n",
    "sorted(l1,key=lambda x: x[2])\n",
    "#print(sorted(l1[1]))\n"
   ]
  },
  {
   "cell_type": "code",
   "execution_count": 59,
   "metadata": {},
   "outputs": [
    {
     "ename": "SyntaxError",
     "evalue": "invalid syntax (<ipython-input-59-1862476df614>, line 6)",
     "output_type": "error",
     "traceback": [
      "\u001b[1;36m  File \u001b[1;32m\"<ipython-input-59-1862476df614>\"\u001b[1;36m, line \u001b[1;32m6\u001b[0m\n\u001b[1;33m    print(l2)\u001b[0m\n\u001b[1;37m        ^\u001b[0m\n\u001b[1;31mSyntaxError\u001b[0m\u001b[1;31m:\u001b[0m invalid syntax\n"
     ]
    }
   ],
   "source": [
    "#[\"a\",\"b\",\"c,\"d\",\"e\"] input\n",
    "#[(0,\"a\"),(1,\"b\"),(2,\"c\"),(3,\"d\"),(4,\"e\")] output\n",
    "l1=[\"a\",\"b\",\"c\",\"d\",\"e\"]\n",
    "for x in range(0,len(l1)):\n",
    "    l2=list((x),(len(l1))\n",
    "print(l2)\n",
    "    "
   ]
  },
  {
   "cell_type": "markdown",
   "metadata": {},
   "source": [
    "last and second last column "
   ]
  },
  {
   "cell_type": "code",
   "execution_count": 62,
   "metadata": {},
   "outputs": [
    {
     "data": {
      "text/plain": [
       "[(5, 9, 1, 6), (9, 8, 2, 1), (3, 4, 4, 9)]"
      ]
     },
     "execution_count": 62,
     "metadata": {},
     "output_type": "execute_result"
    }
   ],
   "source": [
    "l1=[\n",
    "    (3,4,4,9),\n",
    "    (9,8,2,1),\n",
    "    (5,9,1,6)\n",
    "]\n",
    "sorted(l1,key=lambda x: x[2])"
   ]
  },
  {
   "cell_type": "code",
   "execution_count": 68,
   "metadata": {},
   "outputs": [
    {
     "name": "stdout",
     "output_type": "stream",
     "text": [
      "{'a': 1, 'b': 9, 'c': 4, 'd': 3}\n",
      "a\n",
      "b\n",
      "c\n",
      "d\n"
     ]
    }
   ],
   "source": [
    "#dictionary ko sort krne ke liye new dictionary bani hy\n",
    "# {\"a\":1,\n",
    "# \"b\":9,\n",
    "# \"c\":4,\n",
    "# \"d\":3\n",
    "# }\n",
    "# output \n",
    "# {\"a\":1,\n",
    "# \"b\":3,\n",
    "# \"c\":4,\n",
    "# \"d\":9\n",
    "# }\n",
    "D1={\"a\":1,\n",
    "\"b\":9,\n",
    "\"c\":4,\n",
    "\"d\":3\n",
    "}\n",
    "print(D1)\n",
    "for x in D1:\n",
    "    print(x)\n",
    "\n",
    "\n",
    " "
   ]
  },
  {
   "cell_type": "code",
   "execution_count": 69,
   "metadata": {},
   "outputs": [
    {
     "ename": "IndentationError",
     "evalue": "unexpected indent (<ipython-input-69-301389ed028e>, line 2)",
     "output_type": "error",
     "traceback": [
      "\u001b[1;36m  File \u001b[1;32m\"<ipython-input-69-301389ed028e>\"\u001b[1;36m, line \u001b[1;32m2\u001b[0m\n\u001b[1;33m    l1=str.split()\u001b[0m\n\u001b[1;37m    ^\u001b[0m\n\u001b[1;31mIndentationError\u001b[0m\u001b[1;31m:\u001b[0m unexpected indent\n"
     ]
    }
   ],
   "source": [
    "str=\"cat dog cat dog elephent cat elephent\"\n",
    "#output\n",
    "# \"cat\":3,\n",
    "#  \"dog\":2,\n",
    "#  \"elelphant:2\"\n",
    " l1=str.split()"
   ]
  },
  {
   "cell_type": "code",
   "execution_count": null,
   "metadata": {},
   "outputs": [],
   "source": [
    "#function bano or 2 value pass kro 1 ki limit or 2sri square ki range \n",
    "# abc(5,3)\n",
    "# {\n",
    "#     [1,1,1]\n",
    "#     [2,4,8]\n",
    "#     ......\n",
    "#     [5,25,125]\n",
    "# }\n"
   ]
  },
  {
   "cell_type": "code",
   "execution_count": null,
   "metadata": {},
   "outputs": [],
   "source": []
  }
 ],
 "metadata": {
  "kernelspec": {
   "display_name": "Python 3",
   "language": "python",
   "name": "python3"
  }
 },
 "nbformat": 4,
 "nbformat_minor": 2
}
